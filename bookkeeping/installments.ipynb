{
 "cells": [
  {
   "cell_type": "code",
   "execution_count": 44,
   "id": "6e6421ff",
   "metadata": {},
   "outputs": [
    {
     "name": "stdout",
     "output_type": "stream",
     "text": [
      "Rows in 79991 advertisment: (320, 10)\n",
      "Rows in 79991 without_ad: (98, 10)\n",
      "Rows in the rest: (1449, 10)\n"
     ]
    }
   ],
   "source": [
    "import pandas as pd\n",
    "import numpy as np\n",
    "\n",
    "# --- 1) Load\n",
    "df = pd.read_csv(\"HapoelInstallmentsReportCsv_2025-08-14.csv\")\n",
    "\n",
    "# --- 2) Split 79991 vs rest using the forward-filled payment ref\n",
    "block_key = df['InstallmentPaymentExtRef'].replace({\"\": pd.NA, \"nan\": pd.NA, \"NaN\": pd.NA}).ffill()\n",
    "block_key = pd.to_numeric(block_key, errors=\"coerce\").astype(\"Int64\").astype(str)\n",
    "\n",
    "only_79991 = df[block_key == \"79991\"].copy()\n",
    "rest        = df[block_key != \"79991\"].copy()\n",
    "\n",
    "# --- 3) Within 79991, split segments that contain 4118 in InstallmentProductExtRef\n",
    "code = pd.to_numeric(only_79991[\"InstallmentProductExtRef\"], errors=\"coerce\")\n",
    "only_79991[\"InstallmentProductExtRef\"] = code\n",
    "\n",
    "# Segment id: constant between blanks (NaN) and resets at each blank\n",
    "seg_id = code.isna().cumsum()\n",
    "\n",
    "# Flag segments that contain 4118 anywhere\n",
    "seg_has_4118 = (code == 4118).groupby(seg_id).transform(\"any\")\n",
    "\n",
    "advertisment          = only_79991[seg_has_4118].copy()\n",
    "without_advertisement = only_79991[~seg_has_4118].copy()\n",
    "\n",
    "print(\"Rows in 79991 advertisment:\", advertisment.shape)\n",
    "print(\"Rows in 79991 without_ad:\", without_advertisement.shape)\n",
    "print(\"Rows in the rest:\", rest.shape)\n",
    "\n",
    "# --- 4) Save all three to one Excel\n",
    "out = \"HapoelInstallments_split.xlsx\"\n",
    "with pd.ExcelWriter(out, engine=\"openpyxl\") as w:\n",
    "    without_advertisement.to_excel(w, sheet_name=\"79991_without_ad\", index=False)\n",
    "    advertisment.to_excel(w,        sheet_name=\"79991_advertisement\", index=False)\n",
    "    rest.to_excel(w,                sheet_name=\"Rest\", index=False)"
   ]
  },
  {
   "cell_type": "code",
   "execution_count": null,
   "id": "f94a6245",
   "metadata": {},
   "outputs": [],
   "source": []
  }
 ],
 "metadata": {
  "kernelspec": {
   "display_name": "base",
   "language": "python",
   "name": "python3"
  },
  "language_info": {
   "codemirror_mode": {
    "name": "ipython",
    "version": 3
   },
   "file_extension": ".py",
   "mimetype": "text/x-python",
   "name": "python",
   "nbconvert_exporter": "python",
   "pygments_lexer": "ipython3",
   "version": "3.12.4"
  }
 },
 "nbformat": 4,
 "nbformat_minor": 5
}
